# Author: Krishan Mohan Mandal
# Description: This script captures video from the default webcam, detects faces in each frame,
#              and draws rectangles around the detected faces using OpenCV.
#              Press 'a' to exit the script.
#              Make sure to have the "haarcascade_frontalface_default.xml" file in the same directory as this script.

import cv2

# Load the pre-trained face cascade classifier
face_cap = cv2.CascadeClassifier("haarcascade_frontalface_default.xml")

# Open the video capture object for the default webcam (index 0)
video_cap = cv2.VideoCapture(0)

# Loop to continuously capture and process video frames
while True:
    # Capture frame-by-frame
    ret, video_data = video_cap.read()

    # Convert the frame to grayscale
    col = cv2.cvtColor(video_data, cv2.COLOR_BGR2GRAY)

    # Detect faces in the grayscale frame
    faces = face_cap.detectMultiScale(
        col,
        scaleFactor=1.1,
        minNeighbors=4,
        minSize=(30, 30),
        flags=cv2.CASCADE_SCALE_IMAGE
    )

    # Draw rectangles around the detected faces
    for (x, y, w, h) in faces:
        cv2.rectangle(video_data, (x, y), (x+w, y+h), (255, 0, 0), 2)

    # Display the frame with detected faces
    cv2.imshow("Camera", video_data)

    # Check for 'a' key press to exit the loop
    if cv2.waitKey(10) == ord("a"):
        break

# Release the video capture object and close all windows
video_cap.release()
cv2.destroyAllWindows()
