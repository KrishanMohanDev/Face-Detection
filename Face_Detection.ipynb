{
 "cells": [
  {
   "cell_type": "code",
   "execution_count": 9,
   "metadata": {},
   "outputs": [],
   "source": [
    "# Author: Krishan Mohan Mandal\n",
    "# Description: This script captures video from the default webcam, detects faces in each frame,\n",
    "#              and draws rectangles around the detected faces using OpenCV.\n",
    "#              Press 'a' to exit the script.\n",
    "#              Make sure to have the \"haarcascade_frontalface_default.xml\" file in the same directory as this script.\n",
    "\n",
    "import cv2\n",
    "\n",
    "# Load the pre-trained face cascade classifier\n",
    "face_cap = cv2.CascadeClassifier(\"haarcascade_frontalface_default.xml\")\n",
    "\n",
    "# Open the video capture object for the default webcam (index 0)\n",
    "video_cap = cv2.VideoCapture(0)\n",
    "\n",
    "# Loop to continuously capture and process video frames\n",
    "while True:\n",
    "    # Capture frame-by-frame\n",
    "    ret, video_data = video_cap.read()\n",
    "\n",
    "    # Convert the frame to grayscale\n",
    "    col = cv2.cvtColor(video_data, cv2.COLOR_BGR2GRAY)\n",
    "\n",
    "    # Detect faces in the grayscale frame\n",
    "    faces = face_cap.detectMultiScale(\n",
    "        col,\n",
    "        scaleFactor=1.1,\n",
    "        minNeighbors=4,\n",
    "        minSize=(30, 30),\n",
    "        flags=cv2.CASCADE_SCALE_IMAGE\n",
    "    )\n",
    "\n",
    "    # Draw rectangles around the detected faces\n",
    "    for (x, y, w, h) in faces:\n",
    "        cv2.rectangle(video_data, (x, y), (x+w, y+h), (255, 0, 0), 2)\n",
    "\n",
    "    # Display the frame with detected faces\n",
    "    cv2.imshow(\"Camera\", video_data)\n",
    "\n",
    "    # Check for 'a' key press to exit the loop\n",
    "    if cv2.waitKey(10) == ord(\"a\"):\n",
    "        break\n",
    "\n",
    "# Release the video capture object and close all windows\n",
    "video_cap.release()\n",
    "cv2.destroyAllWindows()"
   ]
  }
 ],
 "metadata": {
  "kernelspec": {
   "display_name": "Python 3",
   "language": "python",
   "name": "python3"
  },
  "language_info": {
   "codemirror_mode": {
    "name": "ipython",
    "version": 3
   },
   "file_extension": ".py",
   "mimetype": "text/x-python",
   "name": "python",
   "nbconvert_exporter": "python",
   "pygments_lexer": "ipython3",
   "version": "3.11.4"
  }
 },
 "nbformat": 4,
 "nbformat_minor": 2
}
